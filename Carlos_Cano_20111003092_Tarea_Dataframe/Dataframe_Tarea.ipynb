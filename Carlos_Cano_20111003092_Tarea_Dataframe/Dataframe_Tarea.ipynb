{
 "cells": [
  {
   "cell_type": "code",
   "execution_count": 1,
   "id": "2263d87d-eb15-4273-abb3-35d68fd3243c",
   "metadata": {},
   "outputs": [
    {
     "name": "stdout",
     "output_type": "stream",
     "text": [
      "       id first_name    last_name                           email      gender  \\\n",
      "0       1      Marni      Duffell       mduffell0@miibeian.gov.cn     Agender   \n",
      "1       2      Jorey   Kettlewell          jkettlewell1@mysql.com      Female   \n",
      "2       3      Ronna    Pesticcio             rpesticcio2@com.com      Female   \n",
      "3       4      Nadya  Somerscales           nsomerscales3@cnn.com      Female   \n",
      "4       5       Kipp    Chimienti         kchimienti4@plala.or.jp        Male   \n",
      "..    ...        ...          ...                             ...         ...   \n",
      "995   996    Emanuel    Consadine        econsadinern@reuters.com        Male   \n",
      "996   997      Glenn         Pell  gpellro@nationalgeographic.com  Non-binary   \n",
      "997   998      Shell     McJarrow              smcjarrowrp@ft.com        Male   \n",
      "998   999     Dewain   Forrestall       dforrestallrq@histats.com        Male   \n",
      "999  1000     Kylynn     MacTague        kmactaguerr@marriott.com      Female   \n",
      "\n",
      "          ip_address                         career  \n",
      "0     139.100.199.46                        Actuary  \n",
      "1       135.90.41.51  Human Resources Assistant III  \n",
      "2        45.7.121.98            Marketing Assistant  \n",
      "3    205.143.112.115                 Statistician I  \n",
      "4     121.190.48.201              Assistant Manager  \n",
      "..               ...                            ...  \n",
      "995      62.44.0.131               Web Developer IV  \n",
      "996   104.190.176.47   Budget/Accounting Analyst IV  \n",
      "997    33.255.251.37       Senior Financial Analyst  \n",
      "998  121.222.113.171        Accounting Assistant II  \n",
      "999     13.24.180.83                Sales Associate  \n",
      "\n",
      "[1000 rows x 7 columns]\n"
     ]
    }
   ],
   "source": [
    "import pandas as pd\n",
    "\n",
    "df = pd.read_csv('DATA.csv', delimiter=',') # también se puede usar la función read_table\n",
    "\n",
    "print(df)"
   ]
  },
  {
   "cell_type": "code",
   "execution_count": null,
   "id": "f50d08d2-d9d9-4bbd-b2dd-4f95945261b0",
   "metadata": {},
   "outputs": [],
   "source": []
  }
 ],
 "metadata": {
  "kernelspec": {
   "display_name": "Python 3 (ipykernel)",
   "language": "python",
   "name": "python3"
  },
  "language_info": {
   "codemirror_mode": {
    "name": "ipython",
    "version": 3
   },
   "file_extension": ".py",
   "mimetype": "text/x-python",
   "name": "python",
   "nbconvert_exporter": "python",
   "pygments_lexer": "ipython3",
   "version": "3.7.1"
  }
 },
 "nbformat": 4,
 "nbformat_minor": 5
}
